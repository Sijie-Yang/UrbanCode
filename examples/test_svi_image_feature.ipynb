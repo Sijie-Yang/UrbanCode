{
 "cells": [
  {
   "cell_type": "markdown",
   "metadata": {},
   "source": [
    "#### 1_download sample street view images for image feature extraction"
   ]
  },
  {
   "cell_type": "code",
   "execution_count": null,
   "metadata": {},
   "outputs": [],
   "source": [
    "import os\n",
    "import requests\n",
    "from tqdm import tqdm\n",
    "from pathlib import Path\n",
    "import json\n",
    "\n",
    "# Set download path\n",
    "download_dir = Path(\"./data/sample_images\")\n",
    "download_dir.mkdir(parents=True, exist_ok=True)\n",
    "\n",
    "# API URL for image list\n",
    "api_url = \"https://huggingface.co/api/datasets/sijiey/Thermal-Affordance-Dataset/tree/main/sample_images\"\n",
    "base_url = \"https://huggingface.co/datasets/sijiey/Thermal-Affordance-Dataset/resolve/main/sample_images/\"\n",
    "\n",
    "# Download function\n",
    "def download_image(url, save_path):\n",
    "    response = requests.get(url, stream=True)\n",
    "    response.raise_for_status()\n",
    "    \n",
    "    with open(save_path, 'wb') as f:\n",
    "        for chunk in response.iter_content(chunk_size=8192):\n",
    "            if chunk:\n",
    "                f.write(chunk)\n",
    "\n",
    "# Get image list\n",
    "print(\"Getting image list...\")\n",
    "try:\n",
    "    response = requests.get(api_url)\n",
    "    response.raise_for_status()\n",
    "    file_list = response.json()\n",
    "    image_names = [item['path'].split('/')[-1] for item in file_list \n",
    "                  if item['path'].endswith(('.jpg', '.jpeg', '.png'))]\n",
    "    print(f\"Found {len(image_names)} images\")\n",
    "except Exception as e:\n",
    "    print(f\"Failed to get image list: {str(e)}\")\n",
    "    # If API call fails, use backup method\n",
    "    print(\"Trying to download sample images directly...\")\n",
    "    image_names = [f\"{i}.jpg\" for i in range(1, 21)]  # Assuming 20 images named 1.jpg to 20.jpg\n",
    "\n",
    "# Download all images\n",
    "print(\"Starting image download...\")\n",
    "for img_name in tqdm(image_names):\n",
    "    img_url = base_url + img_name\n",
    "    save_path = download_dir / img_name\n",
    "    \n",
    "    # Skip download if file already exists\n",
    "    if save_path.exists():\n",
    "        print(f\"File {img_name} already exists, skipping download\")\n",
    "        continue\n",
    "        \n",
    "    try:\n",
    "        download_image(img_url, save_path)\n",
    "    except Exception as e:\n",
    "        print(f\"Error downloading {img_name}: {str(e)}\")\n",
    "\n",
    "print(\"Download complete!\")"
   ]
  },
  {
   "cell_type": "markdown",
   "metadata": {},
   "source": [
    "#### 2_extract image features based on SVIs"
   ]
  },
  {
   "cell_type": "code",
   "execution_count": null,
   "metadata": {},
   "outputs": [],
   "source": [
    "import urbancode as uc\n",
    "import pandas as pd\n",
    "import os\n",
    "\n",
    "# Set image path\n",
    "image_path = \"./data/sample_images\"  # Path to image folder\n",
    "\n",
    "# Create a dataframe with image filenames\n",
    "print(\"Getting image filenames...\")\n",
    "svi_df = uc.svi.filename(image_path)\n",
    "\n",
    "# Extract segmentation features\n",
    "print(\"\\nExtracting segmentation features...\")\n",
    "svi_df = uc.svi.segmentation(svi_df, folder_path=image_path, filename_column='Filename')\n",
    "\n",
    "# Extract object detection features\n",
    "print(\"\\nExtracting object detection features...\")\n",
    "svi_df = uc.svi.object_detection(svi_df, folder_path=image_path, filename_column='Filename')\n",
    "\n",
    "# Extract color features\n",
    "print(\"\\nExtracting color features...\")\n",
    "svi_df = uc.svi.color(svi_df, folder_path=image_path, filename_column='Filename')\n",
    "\n",
    "# Extract scene recognition features\n",
    "print(\"\\nExtracting scene recognition features...\")\n",
    "svi_df = uc.svi.scene_recognition(svi_df, folder_path=image_path, filename_column='Filename')\n",
    "\n",
    "# Save results to CSV file\n",
    "output_path = \"./data/svi_features_results.csv\"\n",
    "svi_df.to_csv(output_path, index=False)\n",
    "print(f\"Results saved to: {output_path}\")\n",
    "\n",
    "# Display results preview\n",
    "print(\"\\nResults preview:\")\n",
    "print(svi_df.head())"
   ]
  }
 ],
 "metadata": {
  "kernelspec": {
   "display_name": "base",
   "language": "python",
   "name": "python3"
  },
  "language_info": {
   "codemirror_mode": {
    "name": "ipython",
    "version": 3
   },
   "file_extension": ".py",
   "mimetype": "text/x-python",
   "name": "python",
   "nbconvert_exporter": "python",
   "pygments_lexer": "ipython3",
   "version": "3.11.5"
  }
 },
 "nbformat": 4,
 "nbformat_minor": 2
}
